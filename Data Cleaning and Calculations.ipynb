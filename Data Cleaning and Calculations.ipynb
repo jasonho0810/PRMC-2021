{
 "cells": [
  {
   "cell_type": "code",
   "execution_count": 1,
   "metadata": {
    "scrolled": true
   },
   "outputs": [],
   "source": [
    "import py_vollib\n",
    "from py_vollib.black_scholes import black_scholes as bs\n",
    "from py_vollib.black_scholes.implied_volatility import implied_volatility as iv\n",
    "from py_vollib.black_scholes.greeks.analytical import delta \n",
    "from py_vollib.black_scholes.greeks.analytical import gamma\n",
    "from py_vollib.black_scholes.greeks.analytical import rho\n",
    "from py_vollib.black_scholes.greeks.analytical import theta\n",
    "from py_vollib.black_scholes.greeks.analytical import vega"
   ]
  },
  {
   "cell_type": "code",
   "execution_count": 2,
   "metadata": {},
   "outputs": [],
   "source": [
    "import numpy as np\n",
    "import pandas as pd\n",
    "import matplotlib.pyplot as plt \n",
    "from tqdm import tqdm\n",
    "from statsmodels.tsa.api import SimpleExpSmoothing"
   ]
  },
  {
   "cell_type": "markdown",
   "metadata": {},
   "source": [
    "### Load traded options transaction data on DTCC for February 2021"
   ]
  },
  {
   "cell_type": "code",
   "execution_count": 3,
   "metadata": {
    "scrolled": true
   },
   "outputs": [],
   "source": [
    "df = pd.read_csv('database_TB.csv', index_col='Date')"
   ]
  },
  {
   "cell_type": "markdown",
   "metadata": {},
   "source": [
    "### Load USD/AUD spot rates data from Yahoo Finance for February 2021"
   ]
  },
  {
   "cell_type": "code",
   "execution_count": 4,
   "metadata": {},
   "outputs": [],
   "source": [
    "df2 = pd.read_csv('AUDUSD=X.csv', index_col='Date')"
   ]
  },
  {
   "cell_type": "markdown",
   "metadata": {},
   "source": [
    "### Inner join two datasets on Date"
   ]
  },
  {
   "cell_type": "code",
   "execution_count": 5,
   "metadata": {},
   "outputs": [],
   "source": [
    "df3 = df.join(df2)"
   ]
  },
  {
   "cell_type": "markdown",
   "metadata": {},
   "source": [
    "### Calculate Implied Volatility"
   ]
  },
  {
   "cell_type": "code",
   "execution_count": 6,
   "metadata": {},
   "outputs": [],
   "source": [
    "df4 = df3.reset_index()\n",
    "\n",
    "# calculate the adjusted premium for FX option\n",
    "df4['Adj_Prem'] = df4['Option Premium Amount'] / df4['USD_notional']\n",
    "\n",
    "# calculate time to maturity as of execution date\n",
    "df4['Date'] = pd.to_datetime(df4['Date']).dt.date\n",
    "df4['Expiration Date'] = pd.to_datetime(df4['Expiration Date']).dt.date\n",
    "df4['Maturity'] = (df4['Expiration Date'] - df4['Date']).dt.days / 365"
   ]
  },
  {
   "cell_type": "code",
   "execution_count": 7,
   "metadata": {
    "scrolled": true
   },
   "outputs": [
    {
     "name": "stderr",
     "output_type": "stream",
     "text": [
      "100%|██████████| 807/807 [00:00<00:00, 2253.53it/s]\n"
     ]
    }
   ],
   "source": [
    "# calculate Implied Volatility\n",
    "Rf = 0.0001 - 0.0008\n",
    "for i in tqdm(df4.index):\n",
    "        df4.loc[i,'IV'] = iv(df4['Adj_Prem'][i], df4['Spot_USDAUD'][i], df4['Strike_USDAUD'][i], \n",
    "                 df4['Maturity'][i], Rf, df4['Type'][i])"
   ]
  },
  {
   "cell_type": "code",
   "execution_count": 8,
   "metadata": {},
   "outputs": [],
   "source": [
    "# drop useless columns\n",
    "df5=df4.drop(['Open','High','Low','Close','Adj Close','Volume'], axis=1)"
   ]
  },
  {
   "cell_type": "markdown",
   "metadata": {},
   "source": [
    "### Calculate Greeks"
   ]
  },
  {
   "cell_type": "code",
   "execution_count": 9,
   "metadata": {
    "scrolled": false
   },
   "outputs": [
    {
     "name": "stderr",
     "output_type": "stream",
     "text": [
      "100%|██████████| 807/807 [00:00<00:00, 807.12it/s]\n"
     ]
    }
   ],
   "source": [
    "for i in tqdm(df5.index):\n",
    "        df5.loc[i,'Delta'] = delta(df5['Type'][i],df5['Spot_USDAUD'][i],df5['Strike_USDAUD'][i],df5['Maturity'][i],Rf,df5['IV'][i])\n",
    "        df5.loc[i,'Gamma'] = gamma(df5['Type'][i],df5['Spot_USDAUD'][i],df5['Strike_USDAUD'][i],df5['Maturity'][i],Rf,df5['IV'][i])\n",
    "        df5.loc[i,'Rho'] = rho(df5['Type'][i],df5['Spot_USDAUD'][i],df5['Strike_USDAUD'][i],df5['Maturity'][i],Rf,df5['IV'][i])\n",
    "        df5.loc[i,'Theta'] = theta(df5['Type'][i],df5['Spot_USDAUD'][i],df5['Strike_USDAUD'][i],df5['Maturity'][i],Rf,df5['IV'][i])\n",
    "        df5.loc[i,'Vega'] = vega(df5['Type'][i],df5['Spot_USDAUD'][i],df5['Strike_USDAUD'][i],df5['Maturity'][i],Rf,df5['IV'][i])"
   ]
  },
  {
   "cell_type": "markdown",
   "metadata": {},
   "source": [
    "### Export the data to \"database_TB_Ready.csv\" for Tableau dashboard"
   ]
  },
  {
   "cell_type": "code",
   "execution_count": 10,
   "metadata": {},
   "outputs": [],
   "source": [
    "df5.to_csv('database_TB_Ready.csv', index=False)"
   ]
  }
 ],
 "metadata": {
  "kernelspec": {
   "display_name": "Python 3",
   "language": "python",
   "name": "python3"
  },
  "language_info": {
   "codemirror_mode": {
    "name": "ipython",
    "version": 3
   },
   "file_extension": ".py",
   "mimetype": "text/x-python",
   "name": "python",
   "nbconvert_exporter": "python",
   "pygments_lexer": "ipython3",
   "version": "3.8.5"
  }
 },
 "nbformat": 4,
 "nbformat_minor": 2
}
